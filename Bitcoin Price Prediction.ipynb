{
  "nbformat": 4,
  "nbformat_minor": 0,
  "metadata": {
    "colab": {
      "provenance": []
    },
    "kernelspec": {
      "name": "python3",
      "display_name": "Python 3"
    },
    "language_info": {
      "name": "python"
    }
  },
  "cells": [
    {
      "cell_type": "code",
      "source": [
        "pip install praw"
      ],
      "metadata": {
        "colab": {
          "base_uri": "https://localhost:8080/"
        },
        "id": "B-tH-ZUf0E_q",
        "outputId": "41397d94-60af-4477-f559-239b862ed65a"
      },
      "execution_count": 17,
      "outputs": [
        {
          "output_type": "stream",
          "name": "stdout",
          "text": [
            "Requirement already satisfied: praw in /usr/local/lib/python3.10/dist-packages (7.8.1)\n",
            "Requirement already satisfied: prawcore<3,>=2.4 in /usr/local/lib/python3.10/dist-packages (from praw) (2.4.0)\n",
            "Requirement already satisfied: update_checker>=0.18 in /usr/local/lib/python3.10/dist-packages (from praw) (0.18.0)\n",
            "Requirement already satisfied: websocket-client>=0.54.0 in /usr/local/lib/python3.10/dist-packages (from praw) (1.8.0)\n",
            "Requirement already satisfied: requests<3.0,>=2.6.0 in /usr/local/lib/python3.10/dist-packages (from prawcore<3,>=2.4->praw) (2.32.3)\n",
            "Requirement already satisfied: charset-normalizer<4,>=2 in /usr/local/lib/python3.10/dist-packages (from requests<3.0,>=2.6.0->prawcore<3,>=2.4->praw) (3.4.0)\n",
            "Requirement already satisfied: idna<4,>=2.5 in /usr/local/lib/python3.10/dist-packages (from requests<3.0,>=2.6.0->prawcore<3,>=2.4->praw) (3.10)\n",
            "Requirement already satisfied: urllib3<3,>=1.21.1 in /usr/local/lib/python3.10/dist-packages (from requests<3.0,>=2.6.0->prawcore<3,>=2.4->praw) (2.2.3)\n",
            "Requirement already satisfied: certifi>=2017.4.17 in /usr/local/lib/python3.10/dist-packages (from requests<3.0,>=2.6.0->prawcore<3,>=2.4->praw) (2024.8.30)\n"
          ]
        }
      ]
    },
    {
      "cell_type": "code",
      "source": [
        "import requests\n",
        "import datetime\n",
        "import pandas as pd\n",
        "import numpy as np\n",
        "from datetime import datetime\n",
        "import praw\n",
        "import re\n",
        "import string\n",
        "import nltk\n",
        "from nltk.corpus import stopwords\n",
        "from nltk.tokenize import word_tokenize\n",
        "from nltk.stem import WordNetLemmatizer\n",
        "from sklearn.feature_extraction.text import ENGLISH_STOP_WORDS\n",
        "from sklearn.model_selection import train_test_split, GridSearchCV, RandomizedSearchCV\n",
        "from sklearn.preprocessing import MinMaxScaler, StandardScaler\n",
        "from sklearn.linear_model import LogisticRegression, LinearRegression\n",
        "from sklearn.ensemble import RandomForestClassifier, RandomForestRegressor, GradientBoostingRegressor\n",
        "from sklearn.svm import SVC, SVR\n",
        "from sklearn.metrics import accuracy_score, mean_absolute_error, mean_squared_error, r2_score\n",
        "from nltk.sentiment.vader import SentimentIntensityAnalyzer\n",
        "\n",
        "nltk.download('punkt')\n",
        "nltk.download('stopwords')\n",
        "nltk.download('wordnet')\n",
        "nltk.download('vader_lexicon')\n"
      ],
      "metadata": {
        "colab": {
          "base_uri": "https://localhost:8080/"
        },
        "id": "gmd9lRnL4cXN",
        "outputId": "8ed2c582-94c4-4e4b-de8f-d5b737a37760"
      },
      "execution_count": 1,
      "outputs": [
        {
          "output_type": "stream",
          "name": "stderr",
          "text": [
            "[nltk_data] Downloading package punkt to /root/nltk_data...\n",
            "[nltk_data]   Package punkt is already up-to-date!\n",
            "[nltk_data] Downloading package stopwords to /root/nltk_data...\n",
            "[nltk_data]   Package stopwords is already up-to-date!\n",
            "[nltk_data] Downloading package wordnet to /root/nltk_data...\n",
            "[nltk_data]   Package wordnet is already up-to-date!\n",
            "[nltk_data] Downloading package vader_lexicon to /root/nltk_data...\n",
            "[nltk_data]   Package vader_lexicon is already up-to-date!\n"
          ]
        },
        {
          "output_type": "execute_result",
          "data": {
            "text/plain": [
              "True"
            ]
          },
          "metadata": {},
          "execution_count": 1
        }
      ]
    },
    {
      "cell_type": "code",
      "execution_count": 2,
      "metadata": {
        "id": "EX5eV2MhadWN",
        "colab": {
          "base_uri": "https://localhost:8080/"
        },
        "outputId": "845793e0-18b9-4850-ccb2-1273aceda61b"
      },
      "outputs": [
        {
          "output_type": "stream",
          "name": "stderr",
          "text": [
            "WARNING:praw:It appears that you are using PRAW in an asynchronous environment.\n",
            "It is strongly recommended to use Async PRAW: https://asyncpraw.readthedocs.io.\n",
            "See https://praw.readthedocs.io/en/latest/getting_started/multiple_instances.html#discord-bots-and-asynchronous-environments for more info.\n",
            "\n",
            "WARNING:praw:It appears that you are using PRAW in an asynchronous environment.\n",
            "It is strongly recommended to use Async PRAW: https://asyncpraw.readthedocs.io.\n",
            "See https://praw.readthedocs.io/en/latest/getting_started/multiple_instances.html#discord-bots-and-asynchronous-environments for more info.\n",
            "\n",
            "WARNING:praw:It appears that you are using PRAW in an asynchronous environment.\n",
            "It is strongly recommended to use Async PRAW: https://asyncpraw.readthedocs.io.\n",
            "See https://praw.readthedocs.io/en/latest/getting_started/multiple_instances.html#discord-bots-and-asynchronous-environments for more info.\n",
            "\n",
            "WARNING:praw:It appears that you are using PRAW in an asynchronous environment.\n",
            "It is strongly recommended to use Async PRAW: https://asyncpraw.readthedocs.io.\n",
            "See https://praw.readthedocs.io/en/latest/getting_started/multiple_instances.html#discord-bots-and-asynchronous-environments for more info.\n",
            "\n",
            "WARNING:praw:It appears that you are using PRAW in an asynchronous environment.\n",
            "It is strongly recommended to use Async PRAW: https://asyncpraw.readthedocs.io.\n",
            "See https://praw.readthedocs.io/en/latest/getting_started/multiple_instances.html#discord-bots-and-asynchronous-environments for more info.\n",
            "\n"
          ]
        },
        {
          "output_type": "stream",
          "name": "stdout",
          "text": [
            "                                                Text       Date\n",
            "0  7 things I learned during the bear market (ver... 2024-12-07\n",
            "1  Bitcoin Mining Company Marathon Digital has ac... 2024-12-07\n",
            "2  Czech Republic scraps capital gains tax on cry... 2024-12-07\n",
            "3    Cardano and Solana, Paul Atkins and David Sacks 2024-12-07\n",
            "4  Why is Algorand’s Community still so “small” d... 2024-12-07\n"
          ]
        }
      ],
      "source": [
        "reddit = praw.Reddit(\n",
        "    client_id=\"TcR41XaT0k6m_vl3tXD4Kg\",\n",
        "    client_secret=\"c4YbqCGTUGChFhxHdktDydEN4lHBNw\",\n",
        "    user_agent=\"Uni Project\"\n",
        ")\n",
        "\n",
        "def convert_utc_to_date(utc_timestamp):\n",
        "    return datetime.utcfromtimestamp(utc_timestamp).strftime('%d %m %Y')\n",
        "\n",
        "def is_from_2024(utc_timestamp):\n",
        "    post_date = datetime.utcfromtimestamp(utc_timestamp)\n",
        "    return post_date.year == 2024\n",
        "\n",
        "keyword = \"Bitcoin\"\n",
        "subreddit = reddit.subreddit(\"cryptocurrency\")\n",
        "\n",
        "post_data = []\n",
        "limit = 500\n",
        "results_count = 0\n",
        "\n",
        "for post in subreddit.new(limit=limit):\n",
        "    if is_from_2024(post.created_utc):\n",
        "        text = post.title\n",
        "        created_date = convert_utc_to_date(post.created_utc)\n",
        "\n",
        "        post_data.append([text, created_date])\n",
        "        results_count += 1\n",
        "        if results_count >= limit:\n",
        "            break\n",
        "\n",
        "df1 = pd.DataFrame(post_data, columns=[\"Text\", \"Date\"])\n",
        "\n",
        "df1['Date'] = pd.to_datetime(df1['Date'], format='%d %m %Y')\n",
        "\n",
        "print(df1.head())\n",
        "\n",
        "\n"
      ]
    },
    {
      "cell_type": "code",
      "source": [
        "def fetch_bitcoin_news(api_key):\n",
        "    url = \"https://newsapi.org/v2/everything\"\n",
        "    params = {\n",
        "        \"q\": \"bitcoin\",\n",
        "        \"apiKey\": api_key,\n",
        "        \"language\": \"en\",\n",
        "        \"sortBy\": \"popularity\",\n",
        "        \"pageSize\": 10,\n",
        "        \"page\": 1\n",
        "    }\n",
        "\n",
        "    response = requests.get(url, params=params)\n",
        "    articles = response.json().get(\"articles\", [])\n",
        "\n",
        "    def convert_date(date_str):\n",
        "        try:\n",
        "            date_obj = datetime.strptime(date_str, \"%Y-%m-%dT%H:%M:%SZ\")\n",
        "            return date_obj.strftime(\"%Y %m %d\")\n",
        "        except ValueError:\n",
        "            return None\n",
        "\n",
        "    news_data = []\n",
        "    for article in articles:\n",
        "        title = article['title']\n",
        "        published_at = convert_date(article['publishedAt'])\n",
        "        news_data.append([title, published_at])\n",
        "\n",
        "    df = pd.DataFrame(news_data, columns=[\"Text\", \"Date\"])\n",
        "    df['Date'] = pd.to_datetime(df['Date'], format='%Y %m %d')\n",
        "    return df\n",
        "\n",
        "api_key = \"eab43d8a7b764109aac501dce4429060\"\n",
        "bitcoin_news_df = fetch_bitcoin_news(api_key)\n",
        "\n",
        "print(bitcoin_news_df)\n",
        "\n",
        "\n"
      ],
      "metadata": {
        "id": "PcSN08K04NSi",
        "colab": {
          "base_uri": "https://localhost:8080/"
        },
        "outputId": "314a4063-8a23-4be4-fae0-2171a66f17d2"
      },
      "execution_count": 3,
      "outputs": [
        {
          "output_type": "stream",
          "name": "stdout",
          "text": [
            "                                                Text       Date\n",
            "0  As Trump Takes a Victory Lap, the Crypto Faith... 2024-11-06\n",
            "1     What Donald Trump's Win Will Mean for Big Tech 2024-11-07\n",
            "2  The Crypto Industry Is Helping Trump Pick SEC ... 2024-11-26\n",
            "3  Creator of Crypto Mixer ‘Bitcoin Fog’ Gets 12 ... 2024-11-09\n",
            "4  Laptop That Helped Bring Down Bitcoin Thief ‘R... 2024-11-20\n",
            "5  The Worst People in the World Are Making a Ton... 2024-11-06\n",
            "6  Johnny Depp Impersonators Are Swindling Elderl... 2024-12-04\n",
            "7  'I was scammed out of £75k by Martin Lewis dee... 2024-11-24\n",
            "8  Bitcoin buyer sues council over £600m 'lost in... 2024-12-03\n",
            "9  Australia's proposed social media ban for kids... 2024-11-23\n"
          ]
        }
      ]
    },
    {
      "cell_type": "code",
      "source": [
        "def fetch_bitcoin_data(start_date, end_date):\n",
        "    start_timestamp = int(start_date.timestamp())\n",
        "    end_timestamp = int(end_date.timestamp())\n",
        "\n",
        "\n",
        "    cg_url = f'https://api.coingecko.com/api/v3/coins/bitcoin/market_chart/range'\n",
        "    cg_params = {\n",
        "        'vs_currency': 'usd',\n",
        "        'from': start_timestamp,\n",
        "        'to': end_timestamp\n",
        "    }\n",
        "\n",
        "    cg_response = requests.get(cg_url, params=cg_params)\n",
        "    cg_data = cg_response.json()\n",
        "\n",
        "    if 'prices' in cg_data:\n",
        "        prices = cg_data['prices']\n",
        "        df = pd.DataFrame(prices, columns=['timestamp', 'price'])\n",
        "        df['date'] = pd.to_datetime(df['timestamp'], unit='ms')\n",
        "        df.drop(columns=['timestamp'], inplace=True)\n",
        "\n",
        "\n",
        "        volumes = cg_data.get('total_volumes', [])\n",
        "        if volumes:\n",
        "            df['volume'] = [v[1] for v in volumes]\n",
        "        else:\n",
        "            df['volume'] = np.nan\n",
        "\n",
        "\n",
        "        cc_url = f'https://min-api.cryptocompare.com/data/v2/histoday'\n",
        "        cc_params = {\n",
        "            'fsym': 'BTC',\n",
        "            'tsym': 'USD',\n",
        "            'toTs': end_timestamp,\n",
        "            'limit': 2000,\n",
        "            'aggregate': 1,\n",
        "            'api_key': 'c5ad40ff646d6c65db20d892476fefc48046b1776a7b9aae2d0d3bee0e36b158'\n",
        "        }\n",
        "\n",
        "        cc_response = requests.get(cc_url, params=cc_params)\n",
        "        cc_data = cc_response.json()\n",
        "\n",
        "        if 'Data' in cc_data:\n",
        "            ohlc_data = cc_data['Data']['Data']\n",
        "            ohlc_df = pd.DataFrame(ohlc_data)\n",
        "\n",
        "\n",
        "            df['open'] = ohlc_df['open']\n",
        "            df['high'] = ohlc_df['high']\n",
        "            df['low'] = ohlc_df['low']\n",
        "            df['close'] = ohlc_df['close']\n",
        "        else:\n",
        "            print(\"Error: Failed to fetch OHLC data from CryptoCompare.\")\n",
        "\n",
        "        df['date'] = df['date'].dt.strftime('%d %b %Y')\n",
        "\n",
        "        return df\n",
        "    else:\n",
        "        print(\"No price data found.\")\n",
        "        return pd.DataFrame()\n",
        "\n",
        "def calculate_indicators(df):\n",
        "    # Simple Moving Averages (SMA)\n",
        "    df['SMA_20'] = df['price'].rolling(window=20).mean()\n",
        "    df['SMA_50'] = df['price'].rolling(window=50).mean()\n",
        "\n",
        "    # Exponential Moving Averages (EMA)\n",
        "    df['EMA_20'] = df['price'].ewm(span=20, adjust=False).mean()\n",
        "\n",
        "    # Relative Strength Index (RSI)\n",
        "    delta = df['price'].diff()\n",
        "    gain = delta.where(delta > 0, 0)\n",
        "    loss = -delta.where(delta < 0, 0)\n",
        "\n",
        "    avg_gain = gain.rolling(window=14).mean()\n",
        "    avg_loss = loss.rolling(window=14).mean()\n",
        "\n",
        "    rs = avg_gain / avg_loss\n",
        "    df['RSI_14'] = 100 - (100 / (1 + rs))\n",
        "\n",
        "    # Bollinger Bands\n",
        "    df['BB_middle'] = df['price'].rolling(window=20).mean()\n",
        "    df['BB_stddev'] = df['price'].rolling(window=20).std()\n",
        "    df['BB_upper'] = df['BB_middle'] + (2 * df['BB_stddev'])\n",
        "    df['BB_lower'] = df['BB_middle'] - (2 * df['BB_stddev'])\n",
        "\n",
        "    # Fibonacci retracement\n",
        "    highest_price = df['price'].max()\n",
        "    lowest_price = df['price'].min()\n",
        "    diff = highest_price - lowest_price\n",
        "    df['Fibonacci_23_6'] = highest_price - 0.236 * diff\n",
        "    df['Fibonacci_38_2'] = highest_price - 0.382 * diff\n",
        "    df['Fibonacci_50'] = highest_price - 0.5 * diff\n",
        "    df['Fibonacci_61_8'] = highest_price - 0.618 * diff\n",
        "\n",
        "    # On-Balance Volume (OBV)\n",
        "    df['OBV'] = (np.sign(df['price'].diff()) * df['price'].diff().abs()).fillna(0).cumsum()\n",
        "\n",
        "    # Stochastic Oscillator\n",
        "    df['Stochastic_K'] = 100 * (df['price'] - df['price'].rolling(window=14).min()) / (df['price'].rolling(window=14).max() - df['price'].rolling(window=14).min())\n",
        "    df['Stochastic_D'] = df['Stochastic_K'].rolling(window=3).mean()\n",
        "\n",
        "    # Aroon Indicator\n",
        "    df['Aroon_Up'] = ((df['price'].rolling(window=14).apply(lambda x: np.argmax(x) + 1) / 14) * 100)\n",
        "    df['Aroon_Down'] = ((df['price'].rolling(window=14).apply(lambda x: np.argmin(x) + 1) / 14) * 100)\n",
        "\n",
        "\n",
        "    # Tenkan-sen (Conversion Line)\n",
        "    df['Tenkan_sen'] = (df['high'].rolling(window=9).max() + df['low'].rolling(window=9).min()) / 2\n",
        "\n",
        "    # Kijun-sen (Base Line)\n",
        "    df['Kijun_sen'] = (df['high'].rolling(window=26).max() + df['low'].rolling(window=26).min()) / 2\n",
        "\n",
        "    return df\n",
        "\n",
        "\n",
        "start_date = datetime(2023, 1, 1)\n",
        "end_date = datetime.utcnow()\n",
        "\n",
        "bitcoin_data = fetch_bitcoin_data(start_date, end_date)\n",
        "\n",
        "if not bitcoin_data.empty:\n",
        "    bitcoin_data['date'] = pd.to_datetime(bitcoin_data['date'], format='%d %b %Y')\n",
        "    bitcoin_data = bitcoin_data[bitcoin_data['date'] >= '2023-03-01']\n",
        "    bitcoin_data_with_indicators = calculate_indicators(bitcoin_data)\n",
        "    bitcoin_data_with_indicators = bitcoin_data_with_indicators.dropna()  # Remove rows with NaN values\n",
        "\n",
        "# Display the resulting dataframe with indicators\n",
        "print(bitcoin_data_with_indicators.head())\n",
        "\n"
      ],
      "metadata": {
        "colab": {
          "base_uri": "https://localhost:8080/"
        },
        "id": "hsrIuhWW3Ycb",
        "outputId": "dff8a149-7a60-485e-ccd0-ad0df1a16c11"
      },
      "execution_count": 4,
      "outputs": [
        {
          "output_type": "stream",
          "name": "stdout",
          "text": [
            "            price       date        volume     open     high      low  \\\n",
            "108  30365.904168 2023-04-19  1.807854e+10  8391.52  8434.63  8105.02   \n",
            "109  28833.217501 2023-04-20  2.413662e+10  8246.30  8267.11  8021.30   \n",
            "110  28255.578249 2023-04-21  2.169590e+10  8168.05  8232.25  8052.51   \n",
            "111  27300.157129 2023-04-22  2.042033e+10  8172.48  8221.03  7822.65   \n",
            "112  27861.640663 2023-04-23  1.170023e+10  7868.31  8326.01  7798.09   \n",
            "\n",
            "       close        SMA_20        SMA_50        EMA_20  ...  Fibonacci_38_2  \\\n",
            "108  8246.30  29046.246194  26549.339513  29100.898112  ...     69498.41769   \n",
            "109  8168.05  29085.850915  26662.892988  29075.404720  ...     69498.41769   \n",
            "110  8172.48  29072.790591  26755.317884  28997.326009  ...     69498.41769   \n",
            "111  7868.31  29012.851215  26832.034295  28835.690877  ...     69498.41769   \n",
            "112  8215.11  28994.107812  26941.918448  28742.924190  ...     69498.41769   \n",
            "\n",
            "     Fibonacci_50  Fibonacci_61_8          OBV  Stochastic_K  Stochastic_D  \\\n",
            "108  60084.540228    50670.662767  7210.360421     95.954785     83.428961   \n",
            "109  60084.540228    50670.662767  5677.673754     35.469196     63.974256   \n",
            "110  60084.540228    50670.662767  5100.034502     12.673376     48.032452   \n",
            "111  60084.540228    50670.662767  4144.613382      0.000000     16.047524   \n",
            "112  60084.540228    50670.662767  4706.096917     17.722189     10.131855   \n",
            "\n",
            "      Aroon_Up  Aroon_Down  Tenkan_sen  Kijun_sen  \n",
            "108  71.428571   21.428571     8244.58   9166.335  \n",
            "109  64.285714   14.285714     8137.28   9164.205  \n",
            "110  57.142857    7.142857     8137.28   9164.205  \n",
            "111  50.000000  100.000000     8137.28   9164.205  \n",
            "112  42.857143   92.857143     8137.28   9164.205  \n",
            "\n",
            "[5 rows x 26 columns]\n"
          ]
        }
      ]
    },
    {
      "cell_type": "code",
      "source": [
        "bitcoin_data_with_indicators['Date'] = pd.to_datetime(bitcoin_data_with_indicators['date'])\n",
        "bitcoin_data_with_indicators.sort_values('Date', inplace=True)\n",
        "\n",
        "projection =14\n",
        "bitcoin_data_with_indicators['predict'] =bitcoin_data_with_indicators['price'].shift(-projection)\n",
        "bitcoin_data_with_indicators.drop(columns=['date'], inplace=True)\n",
        "\n"
      ],
      "metadata": {
        "id": "rcEeEwZdDUc0",
        "colab": {
          "base_uri": "https://localhost:8080/"
        },
        "outputId": "40508cdb-3bf1-4b0f-ecf2-1880c6981509"
      },
      "execution_count": 5,
      "outputs": [
        {
          "output_type": "stream",
          "name": "stderr",
          "text": [
            "<ipython-input-5-c3d34264bd1c>:1: SettingWithCopyWarning: \n",
            "A value is trying to be set on a copy of a slice from a DataFrame.\n",
            "Try using .loc[row_indexer,col_indexer] = value instead\n",
            "\n",
            "See the caveats in the documentation: https://pandas.pydata.org/pandas-docs/stable/user_guide/indexing.html#returning-a-view-versus-a-copy\n",
            "  bitcoin_data_with_indicators['Date'] = pd.to_datetime(bitcoin_data_with_indicators['date'])\n",
            "<ipython-input-5-c3d34264bd1c>:2: SettingWithCopyWarning: \n",
            "A value is trying to be set on a copy of a slice from a DataFrame\n",
            "\n",
            "See the caveats in the documentation: https://pandas.pydata.org/pandas-docs/stable/user_guide/indexing.html#returning-a-view-versus-a-copy\n",
            "  bitcoin_data_with_indicators.sort_values('Date', inplace=True)\n",
            "<ipython-input-5-c3d34264bd1c>:5: SettingWithCopyWarning: \n",
            "A value is trying to be set on a copy of a slice from a DataFrame.\n",
            "Try using .loc[row_indexer,col_indexer] = value instead\n",
            "\n",
            "See the caveats in the documentation: https://pandas.pydata.org/pandas-docs/stable/user_guide/indexing.html#returning-a-view-versus-a-copy\n",
            "  bitcoin_data_with_indicators['predict'] =bitcoin_data_with_indicators['price'].shift(-projection)\n",
            "<ipython-input-5-c3d34264bd1c>:6: SettingWithCopyWarning: \n",
            "A value is trying to be set on a copy of a slice from a DataFrame\n",
            "\n",
            "See the caveats in the documentation: https://pandas.pydata.org/pandas-docs/stable/user_guide/indexing.html#returning-a-view-versus-a-copy\n",
            "  bitcoin_data_with_indicators.drop(columns=['date'], inplace=True)\n"
          ]
        }
      ]
    },
    {
      "cell_type": "code",
      "source": [
        "bitcoin_data_with_indicators_clean = bitcoin_data_with_indicators.dropna()\n",
        "bitcoin_data_with_indicators_clean = bitcoin_data_with_indicators.dropna(subset=['predict'])\n",
        "print(bitcoin_data_with_indicators_clean.head())\n"
      ],
      "metadata": {
        "colab": {
          "base_uri": "https://localhost:8080/"
        },
        "id": "B9NEGMt3JDhs",
        "outputId": "faef656e-4221-4f93-bb1a-0b6149692afd"
      },
      "execution_count": 6,
      "outputs": [
        {
          "output_type": "stream",
          "name": "stdout",
          "text": [
            "            price        volume     open     high      low    close  \\\n",
            "108  30365.904168  1.807854e+10  8391.52  8434.63  8105.02  8246.30   \n",
            "109  28833.217501  2.413662e+10  8246.30  8267.11  8021.30  8168.05   \n",
            "110  28255.578249  2.169590e+10  8168.05  8232.25  8052.51  8172.48   \n",
            "111  27300.157129  2.042033e+10  8172.48  8221.03  7822.65  7868.31   \n",
            "112  27861.640663  1.170023e+10  7868.31  8326.01  7798.09  8215.11   \n",
            "\n",
            "           SMA_20        SMA_50        EMA_20     RSI_14  ...  Fibonacci_61_8  \\\n",
            "108  29046.246194  26549.339513  29100.898112  70.165126  ...    50670.662767   \n",
            "109  29085.850915  26662.892988  29075.404720  54.580668  ...    50670.662767   \n",
            "110  29072.790591  26755.317884  28997.326009  51.443116  ...    50670.662767   \n",
            "111  29012.851215  26832.034295  28835.690877  46.138413  ...    50670.662767   \n",
            "112  28994.107812  26941.918448  28742.924190  49.390839  ...    50670.662767   \n",
            "\n",
            "             OBV  Stochastic_K  Stochastic_D   Aroon_Up  Aroon_Down  \\\n",
            "108  7210.360421     95.954785     83.428961  71.428571   21.428571   \n",
            "109  5677.673754     35.469196     63.974256  64.285714   14.285714   \n",
            "110  5100.034502     12.673376     48.032452  57.142857    7.142857   \n",
            "111  4144.613382      0.000000     16.047524  50.000000  100.000000   \n",
            "112  4706.096917     17.722189     10.131855  42.857143   92.857143   \n",
            "\n",
            "     Tenkan_sen  Kijun_sen       Date       predict  \n",
            "108     8244.58   9166.335 2023-04-19  28654.390133  \n",
            "109     8137.28   9164.205 2023-04-20  28988.320996  \n",
            "110     8137.28   9164.205 2023-04-21  28846.461459  \n",
            "111     8137.28   9164.205 2023-04-22  29520.322269  \n",
            "112     8137.28   9164.205 2023-04-23  28887.741046  \n",
            "\n",
            "[5 rows x 27 columns]\n"
          ]
        }
      ]
    },
    {
      "cell_type": "code",
      "source": [
        "def preprocess_text(df, column_name):\n",
        "\n",
        "    lemmatizer = WordNetLemmatizer()\n",
        "\n",
        "    def clean_text(text):\n",
        "        text = text.lower()\n",
        "        text = re.sub(r'http\\S+|www\\S+', '', text)\n",
        "        text = re.sub(r'\\d+', '', text)\n",
        "        text = text.translate(str.maketrans('', '', string.punctuation))\n",
        "        tokens = word_tokenize(text)\n",
        "        stop_words = set(stopwords.words('english')).union(set(ENGLISH_STOP_WORDS))\n",
        "        tokens = [word for word in tokens if word not in stop_words]\n",
        "        tokens = [lemmatizer.lemmatize(word) for word in tokens]\n",
        "\n",
        "        return ' '.join(tokens)\n",
        "\n",
        "\n",
        "    df['preprocessed_text'] = df[column_name].apply(clean_text)\n",
        "\n",
        "\n",
        "    return df[['Date', 'preprocessed_text']]\n",
        "df1 = preprocess_text(df1, 'Text')\n",
        "bitcoin_news_df = preprocess_text(bitcoin_news_df, 'Text')"
      ],
      "metadata": {
        "id": "yYW2Z10w40fk"
      },
      "execution_count": 7,
      "outputs": []
    },
    {
      "cell_type": "code",
      "source": [
        "sid = SentimentIntensityAnalyzer()\n",
        "def get_sentiment(text):\n",
        "    sentiment_score = sid.polarity_scores(text)\n",
        "    return sentiment_score['compound']\n",
        "\n",
        "df1['Sentiment_Reddit'] = df1['preprocessed_text'].apply(get_sentiment)\n",
        "bitcoin_news_df['Sentiment_News'] = bitcoin_news_df['preprocessed_text'].apply(get_sentiment)"
      ],
      "metadata": {
        "id": "aLnRmNUb7x8b"
      },
      "execution_count": 8,
      "outputs": []
    },
    {
      "cell_type": "code",
      "source": [
        "df_reddit = df1.groupby('Date')['Sentiment_Reddit'].mean().reset_index()\n",
        "df_news = bitcoin_news_df.groupby('Date')['Sentiment_News'].mean().reset_index()\n"
      ],
      "metadata": {
        "id": "2HMktJmqA6oQ"
      },
      "execution_count": 9,
      "outputs": []
    },
    {
      "cell_type": "code",
      "source": [
        "df_reddit['Date'] = pd.to_datetime(df_reddit['Date'], format='%d %b %Y', errors='coerce')\n",
        "df_news['Date'] = pd.to_datetime(df_news['Date'], format='%d %b %Y', errors='coerce')\n",
        "\n",
        "bitcoin_data = pd.merge(bitcoin_data_with_indicators, df_reddit, on='Date', how='left')\n",
        "bitcoin_data = pd.merge(bitcoin_data, df_news, on='Date', how='left')\n",
        "\n",
        "\n",
        "for column in bitcoin_data.select_dtypes(include=['number']):\n",
        "    mean_value = bitcoin_data[column].mean()  # Calculate mean\n",
        "    bitcoin_data[column].fillna(mean_value, inplace=True)  # Fill NaNs with mean value\n",
        "\n"
      ],
      "metadata": {
        "id": "qx_OZMF1BPo9",
        "colab": {
          "base_uri": "https://localhost:8080/"
        },
        "outputId": "2f61a458-e403-4765-daa0-85f1c683a00e"
      },
      "execution_count": 10,
      "outputs": [
        {
          "output_type": "stream",
          "name": "stderr",
          "text": [
            "<ipython-input-10-c2054d69c10e>:10: FutureWarning: A value is trying to be set on a copy of a DataFrame or Series through chained assignment using an inplace method.\n",
            "The behavior will change in pandas 3.0. This inplace method will never work because the intermediate object on which we are setting values always behaves as a copy.\n",
            "\n",
            "For example, when doing 'df[col].method(value, inplace=True)', try using 'df.method({col: value}, inplace=True)' or df[col] = df[col].method(value) instead, to perform the operation inplace on the original object.\n",
            "\n",
            "\n",
            "  bitcoin_data[column].fillna(mean_value, inplace=True)  # Fill NaNs with mean value\n"
          ]
        }
      ]
    },
    {
      "cell_type": "code",
      "source": [
        "bitcoin_data = bitcoin_data.sort_values(by='Date').reset_index(drop=True)\n",
        "\n",
        "X = bitcoin_data.drop(columns=['predict', 'Date'])\n",
        "y = bitcoin_data['predict']\n",
        "\n",
        "\n",
        "scaler = MinMaxScaler()\n",
        "X_scaled = scaler.fit_transform(X)\n",
        "\n",
        "X_train, X_test, y_train, y_test = train_test_split(X_scaled, y, test_size=0.2, random_state=42)"
      ],
      "metadata": {
        "id": "RQCpOr4aDz3G"
      },
      "execution_count": 12,
      "outputs": []
    },
    {
      "cell_type": "code",
      "source": [
        "models = {\n",
        "    'Random Forest': (RandomForestRegressor(random_state=42), {\n",
        "        'n_estimators': [100, 200],\n",
        "        'max_depth': [10, 20],\n",
        "        'min_samples_split': [2, 5]\n",
        "    }),\n",
        "    'Support Vector Regressor': (SVR(), {\n",
        "        'kernel': ['linear', 'rbf'],\n",
        "        'C': [1, 10],\n",
        "        'epsilon': [0.1, 0.2]\n",
        "    }),\n",
        "    'Linear Regression': (LinearRegression(), {\n",
        "        'fit_intercept': [True, False]\n",
        "    }),\n",
        "    'Gradient Boosting Regressor': (GradientBoostingRegressor(random_state=42), {\n",
        "        'n_estimators': [100, 200],\n",
        "        'learning_rate': [0.01, 0.1],\n",
        "        'max_depth': [3, 5]\n",
        "    })\n",
        "}\n",
        "\n",
        "\n",
        "evaluation_results = {}\n",
        "\n",
        "\n",
        "for model_name, (model, param_grid) in models.items():\n",
        "\n",
        "    grid_search = RandomizedSearchCV(model, param_distributions=param_grid, n_iter=5, cv=3, n_jobs=-1, random_state=42)\n",
        "    grid_search.fit(X_train, y_train)\n",
        "\n",
        "\n",
        "    y_pred = grid_search.best_estimator_.predict(X_test)\n",
        "\n",
        "    mae = mean_absolute_error(y_test, y_pred)\n",
        "    mse = mean_squared_error(y_test, y_pred)\n",
        "    r2 = r2_score(y_test, y_pred)\n",
        "\n",
        "\n",
        "    evaluation_results[model_name] = {\n",
        "        'Best Params': grid_search.best_params_,\n",
        "        'MAE': mae,\n",
        "        'MSE': mse,\n",
        "        'R2': r2\n",
        "    }\n",
        "\n",
        "\n",
        "for model_name, results in evaluation_results.items():\n",
        "    print(f\"\\n{model_name} Evaluation:\")\n",
        "    print(f\"Best Params: {results['Best Params']}\")\n",
        "    print(f\"MAE: {results['MAE']}\")\n",
        "    print(f\"MSE: {results['MSE']}\")\n",
        "    print(f\"R2: {results['R2']}\")\n",
        "\n"
      ],
      "metadata": {
        "colab": {
          "base_uri": "https://localhost:8080/"
        },
        "id": "oZSAS60WMlX-",
        "outputId": "813df0e3-8e25-4dab-b6f7-3bdfbd1a7dbf"
      },
      "execution_count": 13,
      "outputs": [
        {
          "output_type": "stream",
          "name": "stderr",
          "text": [
            "/usr/local/lib/python3.10/dist-packages/sklearn/model_selection/_search.py:320: UserWarning: The total space of parameters 2 is smaller than n_iter=5. Running 2 iterations. For exhaustive searches, use GridSearchCV.\n",
            "  warnings.warn(\n"
          ]
        },
        {
          "output_type": "stream",
          "name": "stdout",
          "text": [
            "\n",
            "Random Forest Evaluation:\n",
            "Best Params: {'n_estimators': 200, 'min_samples_split': 2, 'max_depth': 20}\n",
            "MAE: 942.6390490662536\n",
            "MSE: 2435642.4398137885\n",
            "R2: 0.9929717780814655\n",
            "\n",
            "Support Vector Regressor Evaluation:\n",
            "Best Params: {'kernel': 'rbf', 'epsilon': 0.1, 'C': 10}\n",
            "MAE: 15793.963020461406\n",
            "MSE: 332119175.2156628\n",
            "R2: 0.04164616749133199\n",
            "\n",
            "Linear Regression Evaluation:\n",
            "Best Params: {'fit_intercept': False}\n",
            "MAE: 6085.54864237195\n",
            "MSE: 115097618.20955703\n",
            "R2: 0.6678775218199251\n",
            "\n",
            "Gradient Boosting Regressor Evaluation:\n",
            "Best Params: {'n_estimators': 200, 'max_depth': 5, 'learning_rate': 0.1}\n",
            "MAE: 994.7785993230921\n",
            "MSE: 3576966.0232809875\n",
            "R2: 0.9896784065691521\n"
          ]
        }
      ]
    }
  ]
}